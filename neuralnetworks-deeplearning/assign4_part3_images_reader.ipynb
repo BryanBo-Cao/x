{
 "cells": [
  {
   "cell_type": "code",
   "execution_count": 1,
   "metadata": {},
   "outputs": [],
   "source": [
    "'''\n",
    "Author: Bryan Bo Cao\n",
    "Email: boca7588@colorado.edu or bo.cao-1@colorado.edu\n",
    "Github Repo: https://github.com/BryanBo-Cao/x\n",
    "Github Repo: https://github.com/BryanBo-Cao/neuralnets-deeplearning (will be published after Dec 15, 2017)\n",
    "\n",
    "This dataset is collected manually to test the out-of-class of the 10 classes: airplane, automobile, bird, cat, deer, dog, frog, horse, ship, truck are labelled with 0 - 9 respectively.\n",
    "Out-of-class examples are labelled with all zeros.\n",
    "\n",
    "In this dataset, 33 of 50 images are out of class.\n",
    "\n",
    "To show image:\n",
    "imgplot = plt.imshow(image)\n",
    "plt.show()\n",
    "'''\n",
    "import numpy as np\n",
    "from PIL import Image\n",
    "import matplotlib.image as img\n",
    "import matplotlib.pyplot as plt"
   ]
  },
  {
   "cell_type": "code",
   "execution_count": 2,
   "metadata": {},
   "outputs": [],
   "source": [
    "def get_data():\n",
    "    image_data = np.zeros((50,32,32,3))\n",
    "    for i in range(50):\n",
    "        filename = \"assign4_part3_data/\" + str(i) + \".jpg\"\n",
    "        image = img.imread(filename)\n",
    "        image_data[i] = image\n",
    "    return image_data\n",
    "\n",
    "def show_image(image_data, i):\n",
    "    imgplot = plt.imshow(np.uint8(image_data[i]))\n",
    "    plt.show()"
   ]
  },
  {
   "cell_type": "code",
   "execution_count": 3,
   "metadata": {},
   "outputs": [
    {
     "name": "stdout",
     "output_type": "stream",
     "text": [
      "('image_data.shape: ', (50, 32, 32, 3))\n"
     ]
    },
    {
     "data": {
      "image/png": "[encoded data removed]",
      "text/plain": [
       "<matplotlib.figure.Figure at 0x10f4c8d10>"
      ]
     },
     "metadata": {},
     "output_type": "display_data"
    },
    {
     "data": {
      "image/png": "[encoded data removed]",
      "text/plain": [
       "<matplotlib.figure.Figure at 0x111dd13d0>"
      ]
     },
     "metadata": {},
     "output_type": "display_data"
    }
   ],
   "source": [
    "#image_data = get_data()\n",
    "#print (\"image_data.shape: \", image_data.shape)\n",
    "\n",
    "#show_image(image_data, 3)\n",
    "#show_image(image_data, 10)"
   ]
  },
  {
   "cell_type": "code",
   "execution_count": 4,
   "metadata": {
    "collapsed": true
   },
   "outputs": [],
   "source": [
    "def get_labels():\n",
    "    labels = np.zeros((50, 10))\n",
    "    labels[0] = [0., 0., 0., 0., 0., 1., 0., 0., 0., 0.]\n",
    "    labels[1] = [0., 0., 0., 0., 0., 1., 0., 0., 0., 0.]\n",
    "    labels[2] = [0., 0., 0., 0., 0., 0., 0., 0., 0., 0.]\n",
    "    labels[3] = [0., 0., 0., 0., 0., 0., 0., 0., 0., 0.]\n",
    "    labels[4] = [0., 0., 0., 0., 0., 0., 0., 0., 0., 0.]\n",
    "    labels[5] = [0., 0., 0., 0., 0., 0., 0., 0., 0., 0.]\n",
    "    labels[6] = [0., 0., 0., 0., 0., 0., 0., 0., 0., 0.]\n",
    "    labels[7] = [0., 0., 0., 0., 0., 0., 0., 0., 0., 0.]\n",
    "    labels[8] = [0., 0., 0., 1., 0., 0., 0., 0., 0., 0.]\n",
    "    labels[9] = [0., 0., 0., 0., 0., 0., 0., 0., 0., 0.]\n",
    "    \n",
    "    labels[10] = [0., 1., 0., 0., 0., 0., 0., 0., 0., 0.]\n",
    "    labels[11] = [0., 0., 1., 0., 0., 0., 0., 0., 0., 0.]\n",
    "    labels[12] = [0., 0., 0., 0., 0., 0., 0., 0., 0., 0.]\n",
    "    labels[13] = [0., 0., 0., 0., 0., 0., 0., 0., 0., 0.]\n",
    "    labels[14] = [0., 0., 0., 0., 0., 0., 0., 0., 0., 0.]\n",
    "    labels[15] = [0., 0., 0., 0., 0., 0., 0., 0., 0., 0.]\n",
    "    labels[16] = [0., 0., 0., 0., 0., 0., 0., 1., 0., 0.]\n",
    "    labels[17] = [0., 0., 0., 0., 0., 0., 0., 0., 0., 0.]\n",
    "    labels[18] = [0., 0., 0., 0., 0., 0., 0., 0., 0., 0.]\n",
    "    labels[19] = [0., 0., 0., 0., 0., 0., 0., 0., 0., 0.]\n",
    "    \n",
    "    labels[20] = [0., 0., 0., 0., 1., 0., 0., 0., 0., 0.]\n",
    "    labels[21] = [0., 0., 1., 0., 0., 0., 0., 0., 0., 0.]\n",
    "    labels[22] = [0., 1., 0., 0., 0., 0., 0., 0., 0., 0.]\n",
    "    labels[23] = [0., 0., 0., 0., 0., 0., 0., 0., 0., 0.]\n",
    "    labels[24] = [0., 0., 0., 0., 0., 0., 0., 0., 0., 0.]\n",
    "    labels[25] = [0., 0., 0., 0., 1., 0., 0., 0., 0., 0.]\n",
    "    labels[26] = [0., 0., 0., 0., 1., 0., 0., 0., 0., 0.]\n",
    "    labels[27] = [0., 0., 0., 0., 0., 0., 0., 0., 0., 1.]\n",
    "    labels[28] = [1., 0., 0., 0., 0., 0., 0., 0., 0., 0.]\n",
    "    labels[29] = [0., 0., 0., 0., 0., 0., 0., 0., 0., 0.]\n",
    "    \n",
    "    labels[30] = [0., 0., 0., 0., 0., 0., 0., 0., 0., 0.]\n",
    "    labels[31] = [0., 0., 0., 0., 0., 0., 0., 0., 0., 0.]\n",
    "    labels[32] = [0., 0., 0., 0., 0., 0., 0., 0., 0., 0.]\n",
    "    labels[33] = [0., 0., 0., 0., 0., 0., 0., 0., 0., 0.]\n",
    "    labels[34] = [0., 0., 0., 0., 0., 0., 0., 0., 0., 0.]\n",
    "    labels[35] = [0., 0., 0., 0., 0., 0., 0., 0., 0., 0.]\n",
    "    labels[36] = [0., 0., 0., 0., 0., 0., 0., 0., 0., 0.]\n",
    "    labels[37] = [0., 0., 0., 0., 0., 1., 0., 0., 0., 0.]\n",
    "    labels[38] = [0., 0., 0., 0., 0., 1., 0., 0., 0., 0.]\n",
    "    labels[39] = [0., 0., 0., 0., 0., 0., 0., 0., 0., 0.]\n",
    "    \n",
    "    labels[40] = [0., 0., 0., 0., 0., 0., 0., 0., 0., 0.]\n",
    "    labels[41] = [0., 0., 0., 0., 0., 0., 0., 0., 0., 0.]\n",
    "    labels[42] = [0., 0., 0., 0., 0., 0., 0., 0., 0., 0.]\n",
    "    labels[43] = [0., 0., 0., 0., 0., 0., 0., 0., 1., 0.]\n",
    "    labels[44] = [0., 0., 0., 0., 0., 0., 0., 0., 0., 0.]\n",
    "    labels[45] = [0., 0., 0., 0., 0., 0., 0., 0., 0., 0.]\n",
    "    labels[46] = [0., 0., 0., 0., 0., 0., 0., 0., 0., 0.]\n",
    "    labels[47] = [0., 0., 0., 0., 0., 0., 0., 0., 0., 0.]\n",
    "    labels[48] = [0., 0., 0., 0., 0., 0., 0., 0., 0., 0.]\n",
    "    labels[49] = [0., 0., 0., 0., 0., 0., 1., 0., 0., 0.]\n",
    "    \n",
    "    return labels"
   ]
  },
  {
   "cell_type": "code",
   "execution_count": 5,
   "metadata": {},
   "outputs": [
    {
     "name": "stdout",
     "output_type": "stream",
     "text": [
      "('labels.shape: ', (50, 10))\n"
     ]
    }
   ],
   "source": [
    "#labels = get_labels()\n",
    "#print (\"labels.shape: \", labels.shape)"
   ]
  },
  {
   "cell_type": "code",
   "execution_count": null,
   "metadata": {
    "collapsed": true
   },
   "outputs": [],
   "source": []
  }
 ],
 "metadata": {
  "kernelspec": {
   "display_name": "Python 2",
   "language": "python",
   "name": "python2"
  },
  "language_info": {
   "codemirror_mode": {
    "name": "ipython",
    "version": 2
   },
   "file_extension": ".py",
   "mimetype": "text/x-python",
   "name": "python",
   "nbconvert_exporter": "python",
   "pygments_lexer": "ipython2",
   "version": "2.7.13"
  }
 },
 "nbformat": 4,
 "nbformat_minor": 2
}
